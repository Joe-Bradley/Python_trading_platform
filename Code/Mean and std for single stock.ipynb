{
 "cells": [
  {
   "cell_type": "code",
   "execution_count": 1,
   "id": "fd32d880",
   "metadata": {},
   "outputs": [],
   "source": [
    "import pandas as pd\n",
    "import matplotlib.pyplot as plt\n",
    "import os"
   ]
  },
  {
   "cell_type": "code",
   "execution_count": 2,
   "id": "0179aee3",
   "metadata": {},
   "outputs": [],
   "source": [
    "currWD = os.getcwd()"
   ]
  },
  {
   "cell_type": "code",
   "execution_count": 3,
   "id": "951f463f",
   "metadata": {},
   "outputs": [],
   "source": [
    "sTicker_lis =  ['3443','2388', '2498', '2610', '1319', '3035', '3006', '2615', '5425', '3105']\n",
    "def dff(ticker):  \n",
    "    a = pd.read_csv(ticker + '.csv')\n",
    "    del a['Unnamed: 0']\n",
    "    a = a[['return', 'time']]\n",
    "    a.set_index('time', inplace = True)\n",
    "    a.rename(columns={'return': ticker},inplace = True)\n",
    "    return a"
   ]
  },
  {
   "cell_type": "code",
   "execution_count": 4,
   "id": "84be8f9d",
   "metadata": {},
   "outputs": [],
   "source": [
    "d_lis = ['0621', '0626','0627','0628','0629']\n",
    "df_lis = []\n",
    "currWD = os.getcwd()\n",
    "for d in d_lis:\n",
    "    destination = './GBRT_'+ d + '/'\n",
    "    os.chdir(destination)\n",
    "    for i in range(len(sTicker_lis)):\n",
    "        df = dff(sTicker_lis[i])\n",
    "        if i == 0:\n",
    "            total_df = df\n",
    "        else:\n",
    "            total_df = pd.merge(total_df, df, left_index=True, right_index=True, how='outer').fillna(method = 'ffill')\n",
    "    df_lis.append(total_df)\n",
    "    os.chdir(currWD)"
   ]
  },
  {
   "cell_type": "code",
   "execution_count": 18,
   "id": "9fd3b010",
   "metadata": {},
   "outputs": [],
   "source": [
    "df = pd.DataFrame(columns = df_lis[0].columns)\n",
    "for i in df_lis:\n",
    "    df = pd.concat([df, i.iloc[[-1]]])"
   ]
  },
  {
   "cell_type": "code",
   "execution_count": 19,
   "id": "d683982d",
   "metadata": {},
   "outputs": [
    {
     "data": {
      "text/html": [
       "<div>\n",
       "<style scoped>\n",
       "    .dataframe tbody tr th:only-of-type {\n",
       "        vertical-align: middle;\n",
       "    }\n",
       "\n",
       "    .dataframe tbody tr th {\n",
       "        vertical-align: top;\n",
       "    }\n",
       "\n",
       "    .dataframe thead th {\n",
       "        text-align: right;\n",
       "    }\n",
       "</style>\n",
       "<table border=\"1\" class=\"dataframe\">\n",
       "  <thead>\n",
       "    <tr style=\"text-align: right;\">\n",
       "      <th></th>\n",
       "      <th>3443</th>\n",
       "      <th>2388</th>\n",
       "      <th>2498</th>\n",
       "      <th>2610</th>\n",
       "      <th>1319</th>\n",
       "      <th>3035</th>\n",
       "      <th>3006</th>\n",
       "      <th>2615</th>\n",
       "      <th>5425</th>\n",
       "      <th>3105</th>\n",
       "    </tr>\n",
       "  </thead>\n",
       "  <tbody>\n",
       "    <tr>\n",
       "      <th>13:24:56.566000</th>\n",
       "      <td>-0.02625</td>\n",
       "      <td>-0.00417</td>\n",
       "      <td>-0.00364</td>\n",
       "      <td>0.002345</td>\n",
       "      <td>0.014585</td>\n",
       "      <td>0.0039</td>\n",
       "      <td>-0.00784</td>\n",
       "      <td>-0.01529</td>\n",
       "      <td>-0.03357</td>\n",
       "      <td>-0.01645</td>\n",
       "    </tr>\n",
       "    <tr>\n",
       "      <th>13:23:03.336000</th>\n",
       "      <td>0.00975</td>\n",
       "      <td>-0.00266</td>\n",
       "      <td>-0.01456</td>\n",
       "      <td>0.00198</td>\n",
       "      <td>0.000135</td>\n",
       "      <td>0.01845</td>\n",
       "      <td>-0.010015</td>\n",
       "      <td>-0.017175</td>\n",
       "      <td>-0.02616</td>\n",
       "      <td>-0.02185</td>\n",
       "    </tr>\n",
       "    <tr>\n",
       "      <th>13:24:01.890000</th>\n",
       "      <td>-0.0795</td>\n",
       "      <td>-0.002655</td>\n",
       "      <td>-0.020105</td>\n",
       "      <td>-0.058705</td>\n",
       "      <td>-0.03335</td>\n",
       "      <td>-0.02245</td>\n",
       "      <td>-0.012065</td>\n",
       "      <td>-0.03103</td>\n",
       "      <td>-0.0019</td>\n",
       "      <td>0.0141</td>\n",
       "    </tr>\n",
       "    <tr>\n",
       "      <th>13:21:10.018000</th>\n",
       "      <td>-0.02775</td>\n",
       "      <td>-0.047005</td>\n",
       "      <td>-0.017345</td>\n",
       "      <td>0.007642</td>\n",
       "      <td>0.01021</td>\n",
       "      <td>-0.009025</td>\n",
       "      <td>0.00358</td>\n",
       "      <td>-0.016465</td>\n",
       "      <td>-0.02954</td>\n",
       "      <td>-0.004625</td>\n",
       "    </tr>\n",
       "    <tr>\n",
       "      <th>13:24:18.715000</th>\n",
       "      <td>0.017</td>\n",
       "      <td>0.013965</td>\n",
       "      <td>0.000075</td>\n",
       "      <td>-0.037997</td>\n",
       "      <td>-0.01924</td>\n",
       "      <td>0.02975</td>\n",
       "      <td>-0.01802</td>\n",
       "      <td>-0.010285</td>\n",
       "      <td>0.004435</td>\n",
       "      <td>-0.115825</td>\n",
       "    </tr>\n",
       "  </tbody>\n",
       "</table>\n",
       "</div>"
      ],
      "text/plain": [
       "                    3443      2388      2498      2610      1319      3035  \\\n",
       "13:24:56.566000 -0.02625  -0.00417  -0.00364  0.002345  0.014585    0.0039   \n",
       "13:23:03.336000  0.00975  -0.00266  -0.01456   0.00198  0.000135   0.01845   \n",
       "13:24:01.890000  -0.0795 -0.002655 -0.020105 -0.058705  -0.03335  -0.02245   \n",
       "13:21:10.018000 -0.02775 -0.047005 -0.017345  0.007642   0.01021 -0.009025   \n",
       "13:24:18.715000    0.017  0.013965  0.000075 -0.037997  -0.01924   0.02975   \n",
       "\n",
       "                     3006      2615      5425      3105  \n",
       "13:24:56.566000  -0.00784  -0.01529  -0.03357  -0.01645  \n",
       "13:23:03.336000 -0.010015 -0.017175  -0.02616  -0.02185  \n",
       "13:24:01.890000 -0.012065  -0.03103   -0.0019    0.0141  \n",
       "13:21:10.018000   0.00358 -0.016465  -0.02954 -0.004625  \n",
       "13:24:18.715000  -0.01802 -0.010285  0.004435 -0.115825  "
      ]
     },
     "execution_count": 19,
     "metadata": {},
     "output_type": "execute_result"
    }
   ],
   "source": [
    "df"
   ]
  },
  {
   "cell_type": "code",
   "execution_count": 20,
   "id": "ca782635",
   "metadata": {},
   "outputs": [
    {
     "data": {
      "text/plain": [
       "3035    0.004125\n",
       "1319   -0.005532\n",
       "2388   -0.008505\n",
       "3006   -0.008872\n",
       "2498   -0.011115\n",
       "2610   -0.016947\n",
       "5425   -0.017347\n",
       "2615   -0.018049\n",
       "3443   -0.021350\n",
       "3105   -0.028930\n",
       "dtype: float64"
      ]
     },
     "execution_count": 20,
     "metadata": {},
     "output_type": "execute_result"
    }
   ],
   "source": [
    "df.mean().sort_values(ascending = False)"
   ]
  },
  {
   "cell_type": "code",
   "execution_count": 21,
   "id": "abff5d9d",
   "metadata": {},
   "outputs": [
    {
     "data": {
      "text/plain": [
       "2615    0.007741\n",
       "3006    0.007926\n",
       "2498    0.008840\n",
       "5425    0.017339\n",
       "1319    0.020288\n",
       "3035    0.020863\n",
       "2388    0.022772\n",
       "2610    0.029673\n",
       "3443    0.038355\n",
       "3105    0.050495\n",
       "dtype: float64"
      ]
     },
     "execution_count": 21,
     "metadata": {},
     "output_type": "execute_result"
    }
   ],
   "source": [
    "df.std().sort_values()"
   ]
  }
 ],
 "metadata": {
  "kernelspec": {
   "display_name": "Python 3 (ipykernel)",
   "language": "python",
   "name": "python3"
  },
  "language_info": {
   "codemirror_mode": {
    "name": "ipython",
    "version": 3
   },
   "file_extension": ".py",
   "mimetype": "text/x-python",
   "name": "python",
   "nbconvert_exporter": "python",
   "pygments_lexer": "ipython3",
   "version": "3.9.12"
  }
 },
 "nbformat": 4,
 "nbformat_minor": 5
}
